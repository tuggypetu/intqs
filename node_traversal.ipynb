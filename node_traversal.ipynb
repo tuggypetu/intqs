{
 "cells": [
  {
   "cell_type": "code",
   "execution_count": 2,
   "id": "c4b9eda9",
   "metadata": {},
   "outputs": [],
   "source": [
    "import numpy as np\n",
    "LSTI = np.array([['red', 5, [1, 2, 3]],     # N0\n",
    "                ['blue', 5, [3]],           # N1\n",
    "                ['red', 50, [4]],           # N2\n",
    "                ['blue', 5, [2]],           # N3\n",
    "                ['blue', 5, [0, 3]]],       # N4\n",
    "                dtype=object)"
   ]
  },
  {
   "cell_type": "code",
   "execution_count": 3,
   "id": "5abfa3e7",
   "metadata": {},
   "outputs": [],
   "source": [
    "def get_traversal(main_node):\n",
    "    points = read_nodes(main_node)\n",
    "    for i in points:\n",
    "        node_list = [main_node, i]\n",
    "        traversal_while_loop(i, node_list, main_node)\n",
    "\n",
    "def traversal_while_loop(i, node_list, main_node):\n",
    "    while i != main_node:\n",
    "        i, node_list, new_list = get_next_node(i, node_list, main_node)\n",
    "        if new_list is not None:\n",
    "            for e, k in enumerate(new_list):\n",
    "                if e != 0:\n",
    "                    target_ibdex = node_list.index(new_list[e-1])\n",
    "                    node_list = node_list[:target_ibdex]\n",
    "                node_new_list = node_list\n",
    "                node_new_list.append(k)\n",
    "                traversal_while_loop(k, node_new_list, main_node)\n",
    "            i = main_node\n",
    "    print_nodes(main_node, node_list)\n",
    "    \n",
    "\n",
    "def get_next_node(n, node_list, main_node, new_list=None):\n",
    "    gg = read_nodes(n)\n",
    "    if main_node in gg:\n",
    "        node = main_node\n",
    "        node_list.append(node)\n",
    "    elif len(gg) == 1:\n",
    "        node = gg[0]\n",
    "        node_list.append(node)\n",
    "    else:\n",
    "        node = n\n",
    "        new_list = gg\n",
    "        for o in new_list:\n",
    "            if o in node_list:\n",
    "                new_list.remove(o)\n",
    "    return node, node_list, new_list\n",
    "\n",
    "\n",
    "def read_nodes(n):\n",
    "    return LSTI[n][2]\n",
    "\n",
    "def print_nodes(main_node, node_list):\n",
    "    for m, j in enumerate(node_list):\n",
    "        if m + 1 == len(node_list):\n",
    "            print_node(j, -1)\n",
    "        else:\n",
    "            print_node(j)\n",
    "    \n",
    "def print_node(n, kk = 0):\n",
    "    if kk == 0:\n",
    "        print(f\"N{n}\", '-->', end=' ')\n",
    "    else:\n",
    "        print(f\"N{n}\")"
   ]
  },
  {
   "cell_type": "code",
   "execution_count": 4,
   "id": "00295bec",
   "metadata": {},
   "outputs": [
    {
     "name": "stdout",
     "output_type": "stream",
     "text": [
      "N0 --> N1 --> N3 --> N2 --> N4 --> N0\n",
      "N0 --> N2 --> N4 --> N0\n",
      "N0 --> N3 --> N2 --> N4 --> N0\n"
     ]
    }
   ],
   "source": [
    "get_traversal(0)"
   ]
  },
  {
   "cell_type": "code",
   "execution_count": null,
   "id": "54287484",
   "metadata": {},
   "outputs": [],
   "source": []
  },
  {
   "cell_type": "code",
   "execution_count": null,
   "id": "c04b15e8",
   "metadata": {},
   "outputs": [],
   "source": []
  },
  {
   "cell_type": "code",
   "execution_count": null,
   "id": "a4d157a6",
   "metadata": {},
   "outputs": [],
   "source": []
  },
  {
   "cell_type": "code",
   "execution_count": null,
   "id": "52783caa",
   "metadata": {},
   "outputs": [],
   "source": []
  }
 ],
 "metadata": {
  "kernelspec": {
   "display_name": "env_tf",
   "language": "python",
   "name": "python3"
  },
  "language_info": {
   "codemirror_mode": {
    "name": "ipython",
    "version": 3
   },
   "file_extension": ".py",
   "mimetype": "text/x-python",
   "name": "python",
   "nbconvert_exporter": "python",
   "pygments_lexer": "ipython3",
   "version": "3.10.6"
  },
  "vscode": {
   "interpreter": {
    "hash": "26de3aefd00fb54631daffb4991d917a311baf5150f301a87ab3b80759ebff23"
   }
  }
 },
 "nbformat": 4,
 "nbformat_minor": 5
}
