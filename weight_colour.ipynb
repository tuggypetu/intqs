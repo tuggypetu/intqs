{
 "cells": [
  {
   "cell_type": "code",
   "execution_count": 1,
   "metadata": {},
   "outputs": [],
   "source": [
    "import numpy as np\n",
    "lsti = np.array([['red', 5, [2, 3, 4, 5]], \n",
    "                ['blue', 5, [4]], \n",
    "                ['red', 50, [5]], \n",
    "                ['blue', 5, [3]], \n",
    "                ['blue', 5, [4,1]]], \n",
    "                dtype=object)"
   ]
  },
  {
   "cell_type": "code",
   "execution_count": 2,
   "metadata": {},
   "outputs": [
    {
     "name": "stdout",
     "output_type": "stream",
     "text": [
      "[55 15]\n"
     ]
    }
   ],
   "source": [
    "red_index= 0\n",
    "blue_index = 1\n",
    "colour = np.array([0, 0])\n",
    "for i in lsti:\n",
    "    if i[0] == 'red':\n",
    "        colour[0] = colour[0] + i[1]\n",
    "    else:\n",
    "        colour[1] = colour[1] + i[1] \n",
    "print(colour)"
   ]
  },
  {
   "cell_type": "code",
   "execution_count": null,
   "metadata": {},
   "outputs": [],
   "source": []
  }
 ],
 "metadata": {
  "kernelspec": {
   "display_name": "Python 3",
   "language": "python",
   "name": "python3"
  },
  "language_info": {
   "codemirror_mode": {
    "name": "ipython",
    "version": 3
   },
   "file_extension": ".py",
   "mimetype": "text/x-python",
   "name": "python",
   "nbconvert_exporter": "python",
   "pygments_lexer": "ipython3",
   "version": "3.10.2"
  },
  "orig_nbformat": 4,
  "vscode": {
   "interpreter": {
    "hash": "98590ff4fe04c8543246b2a01debd3de3c5ca9b666f43f1fa87d5110c692004c"
   }
  }
 },
 "nbformat": 4,
 "nbformat_minor": 2
}
